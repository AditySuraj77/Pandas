{
 "cells": [
  {
   "cell_type": "code",
   "execution_count": 1,
   "id": "933c8fef",
   "metadata": {},
   "outputs": [],
   "source": [
    "import pandas as pd"
   ]
  },
  {
   "cell_type": "code",
   "execution_count": 2,
   "id": "83b7949b",
   "metadata": {},
   "outputs": [],
   "source": [
    "a = [\"Volvo\", 'Kiaz', \"CEAT\", \"RANGER\", \"ROVER\"]\n",
    "\n"
   ]
  },
  {
   "cell_type": "code",
   "execution_count": 3,
   "id": "c08c7de3",
   "metadata": {},
   "outputs": [],
   "source": [
    "dt = pd.DataFrame(a)"
   ]
  },
  {
   "cell_type": "code",
   "execution_count": 4,
   "id": "b0177c69",
   "metadata": {},
   "outputs": [
    {
     "data": {
      "text/html": [
       "<div>\n",
       "<style scoped>\n",
       "    .dataframe tbody tr th:only-of-type {\n",
       "        vertical-align: middle;\n",
       "    }\n",
       "\n",
       "    .dataframe tbody tr th {\n",
       "        vertical-align: top;\n",
       "    }\n",
       "\n",
       "    .dataframe thead th {\n",
       "        text-align: right;\n",
       "    }\n",
       "</style>\n",
       "<table border=\"1\" class=\"dataframe\">\n",
       "  <thead>\n",
       "    <tr style=\"text-align: right;\">\n",
       "      <th></th>\n",
       "      <th>0</th>\n",
       "    </tr>\n",
       "  </thead>\n",
       "  <tbody>\n",
       "    <tr>\n",
       "      <th>0</th>\n",
       "      <td>Volvo</td>\n",
       "    </tr>\n",
       "    <tr>\n",
       "      <th>1</th>\n",
       "      <td>Kiaz</td>\n",
       "    </tr>\n",
       "    <tr>\n",
       "      <th>2</th>\n",
       "      <td>CEAT</td>\n",
       "    </tr>\n",
       "    <tr>\n",
       "      <th>3</th>\n",
       "      <td>RANGER</td>\n",
       "    </tr>\n",
       "    <tr>\n",
       "      <th>4</th>\n",
       "      <td>ROVER</td>\n",
       "    </tr>\n",
       "  </tbody>\n",
       "</table>\n",
       "</div>"
      ],
      "text/plain": [
       "        0\n",
       "0   Volvo\n",
       "1    Kiaz\n",
       "2    CEAT\n",
       "3  RANGER\n",
       "4   ROVER"
      ]
     },
     "execution_count": 4,
     "metadata": {},
     "output_type": "execute_result"
    }
   ],
   "source": [
    "dt"
   ]
  },
  {
   "cell_type": "code",
   "execution_count": 5,
   "id": "602d069b",
   "metadata": {},
   "outputs": [
    {
     "name": "stdout",
     "output_type": "stream",
     "text": [
      "0     Volvo\n",
      "1      Kiaz\n",
      "2      CEAT\n",
      "3    RANGER\n",
      "4     ROVER\n",
      "Name: 0, dtype: object\n"
     ]
    }
   ],
   "source": [
    "print(dt[0])"
   ]
  },
  {
   "cell_type": "code",
   "execution_count": 6,
   "id": "97d6ee75",
   "metadata": {},
   "outputs": [],
   "source": [
    "dt = pd.Series(a, index = [\"x\", \"y\", \"z\",\"s\", \"t\"])"
   ]
  },
  {
   "cell_type": "code",
   "execution_count": 7,
   "id": "72714ee8",
   "metadata": {},
   "outputs": [
    {
     "data": {
      "text/plain": [
       "x     Volvo\n",
       "y      Kiaz\n",
       "z      CEAT\n",
       "s    RANGER\n",
       "t     ROVER\n",
       "dtype: object"
      ]
     },
     "execution_count": 7,
     "metadata": {},
     "output_type": "execute_result"
    }
   ],
   "source": [
    "dt"
   ]
  },
  {
   "cell_type": "code",
   "execution_count": 8,
   "id": "3d7a857d",
   "metadata": {},
   "outputs": [
    {
     "name": "stdout",
     "output_type": "stream",
     "text": [
      "ROVER\n",
      "Volvo\n",
      "CEAT\n",
      "RANGER\n"
     ]
    }
   ],
   "source": [
    "print(dt[\"t\"])\n",
    "print(dt[\"x\"])\n",
    "print(dt[\"z\"])\n",
    "print(dt[\"s\"])"
   ]
  },
  {
   "cell_type": "code",
   "execution_count": 9,
   "id": "92ca798e",
   "metadata": {},
   "outputs": [],
   "source": [
    "callories = {\"day1\": 500, \"day2\": 300, \"day3\": 525, \"day4\": 500, \"day5\": 100}"
   ]
  },
  {
   "cell_type": "code",
   "execution_count": 10,
   "id": "7d7586ca",
   "metadata": {},
   "outputs": [
    {
     "name": "stdout",
     "output_type": "stream",
     "text": [
      "day1    500\n",
      "day2    300\n",
      "day3    525\n",
      "day4    500\n",
      "day5    100\n",
      "dtype: int64\n"
     ]
    }
   ],
   "source": [
    "mycal = pd.Series(callories)\n",
    "print(mycal)"
   ]
  },
  {
   "cell_type": "code",
   "execution_count": 11,
   "id": "2a2a675d",
   "metadata": {},
   "outputs": [
    {
     "name": "stdout",
     "output_type": "stream",
     "text": [
      "day2    300\n",
      "dtype: int64\n"
     ]
    }
   ],
   "source": [
    "mycal = pd.Series(callories, index=[\"day2\"])\n",
    "print(mycal)"
   ]
  },
  {
   "cell_type": "markdown",
   "id": "73d636ea",
   "metadata": {},
   "source": [
    "# Data Frame"
   ]
  },
  {
   "cell_type": "code",
   "execution_count": 40,
   "id": "29f94cba",
   "metadata": {},
   "outputs": [],
   "source": [
    "data = {\n",
    "     \"Monday\": [420, 380, 390],\n",
    "     \"Tuesday\": [150 , 420, 380],\n",
    "     \"Wednesday\": [200, 420, 380],\n",
    "     \"Thursday\": [500, 200, 420],\n",
    "     \"Friday\": [500, 420, 380],\n",
    "     \"Saturday\":[300, 200, 420],\n",
    "     \"Sunday\":[\"Cheat Day\",\" FUnday\", \"CoolDay\"]\n",
    "} "
   ]
  },
  {
   "cell_type": "code",
   "execution_count": 41,
   "id": "ac7f7863",
   "metadata": {},
   "outputs": [],
   "source": [
    "df = pd.DataFrame(data)\n"
   ]
  },
  {
   "cell_type": "code",
   "execution_count": 42,
   "id": "9b8ee932",
   "metadata": {
    "scrolled": true
   },
   "outputs": [
    {
     "data": {
      "text/html": [
       "<div>\n",
       "<style scoped>\n",
       "    .dataframe tbody tr th:only-of-type {\n",
       "        vertical-align: middle;\n",
       "    }\n",
       "\n",
       "    .dataframe tbody tr th {\n",
       "        vertical-align: top;\n",
       "    }\n",
       "\n",
       "    .dataframe thead th {\n",
       "        text-align: right;\n",
       "    }\n",
       "</style>\n",
       "<table border=\"1\" class=\"dataframe\">\n",
       "  <thead>\n",
       "    <tr style=\"text-align: right;\">\n",
       "      <th></th>\n",
       "      <th>Monday</th>\n",
       "      <th>Tuesday</th>\n",
       "      <th>Wednesday</th>\n",
       "      <th>Thursday</th>\n",
       "      <th>Friday</th>\n",
       "      <th>Saturday</th>\n",
       "      <th>Sunday</th>\n",
       "    </tr>\n",
       "  </thead>\n",
       "  <tbody>\n",
       "    <tr>\n",
       "      <th>0</th>\n",
       "      <td>420</td>\n",
       "      <td>150</td>\n",
       "      <td>200</td>\n",
       "      <td>500</td>\n",
       "      <td>500</td>\n",
       "      <td>300</td>\n",
       "      <td>Cheat Day</td>\n",
       "    </tr>\n",
       "    <tr>\n",
       "      <th>1</th>\n",
       "      <td>380</td>\n",
       "      <td>420</td>\n",
       "      <td>420</td>\n",
       "      <td>200</td>\n",
       "      <td>420</td>\n",
       "      <td>200</td>\n",
       "      <td>FUnday</td>\n",
       "    </tr>\n",
       "    <tr>\n",
       "      <th>2</th>\n",
       "      <td>390</td>\n",
       "      <td>380</td>\n",
       "      <td>380</td>\n",
       "      <td>420</td>\n",
       "      <td>380</td>\n",
       "      <td>420</td>\n",
       "      <td>CoolDay</td>\n",
       "    </tr>\n",
       "  </tbody>\n",
       "</table>\n",
       "</div>"
      ],
      "text/plain": [
       "   Monday  Tuesday  Wednesday  Thursday  Friday  Saturday     Sunday\n",
       "0     420      150        200       500     500       300  Cheat Day\n",
       "1     380      420        420       200     420       200     FUnday\n",
       "2     390      380        380       420     380       420    CoolDay"
      ]
     },
     "execution_count": 42,
     "metadata": {},
     "output_type": "execute_result"
    }
   ],
   "source": [
    "df"
   ]
  },
  {
   "cell_type": "code",
   "execution_count": 17,
   "id": "219791ce",
   "metadata": {},
   "outputs": [
    {
     "data": {
      "text/html": [
       "<div>\n",
       "<style scoped>\n",
       "    .dataframe tbody tr th:only-of-type {\n",
       "        vertical-align: middle;\n",
       "    }\n",
       "\n",
       "    .dataframe tbody tr th {\n",
       "        vertical-align: top;\n",
       "    }\n",
       "\n",
       "    .dataframe thead th {\n",
       "        text-align: right;\n",
       "    }\n",
       "</style>\n",
       "<table border=\"1\" class=\"dataframe\">\n",
       "  <thead>\n",
       "    <tr style=\"text-align: right;\">\n",
       "      <th></th>\n",
       "      <th>Monday</th>\n",
       "      <th>Tuesday</th>\n",
       "      <th>Wednesday</th>\n",
       "      <th>Thursday</th>\n",
       "      <th>Friday</th>\n",
       "      <th>Saturday</th>\n",
       "    </tr>\n",
       "  </thead>\n",
       "  <tbody>\n",
       "    <tr>\n",
       "      <th>count</th>\n",
       "      <td>1.0</td>\n",
       "      <td>1.0</td>\n",
       "      <td>1.0</td>\n",
       "      <td>1.0</td>\n",
       "      <td>1.0</td>\n",
       "      <td>1.0</td>\n",
       "    </tr>\n",
       "    <tr>\n",
       "      <th>mean</th>\n",
       "      <td>460.0</td>\n",
       "      <td>150.0</td>\n",
       "      <td>200.0</td>\n",
       "      <td>500.0</td>\n",
       "      <td>500.0</td>\n",
       "      <td>300.0</td>\n",
       "    </tr>\n",
       "    <tr>\n",
       "      <th>std</th>\n",
       "      <td>NaN</td>\n",
       "      <td>NaN</td>\n",
       "      <td>NaN</td>\n",
       "      <td>NaN</td>\n",
       "      <td>NaN</td>\n",
       "      <td>NaN</td>\n",
       "    </tr>\n",
       "    <tr>\n",
       "      <th>min</th>\n",
       "      <td>460.0</td>\n",
       "      <td>150.0</td>\n",
       "      <td>200.0</td>\n",
       "      <td>500.0</td>\n",
       "      <td>500.0</td>\n",
       "      <td>300.0</td>\n",
       "    </tr>\n",
       "    <tr>\n",
       "      <th>25%</th>\n",
       "      <td>460.0</td>\n",
       "      <td>150.0</td>\n",
       "      <td>200.0</td>\n",
       "      <td>500.0</td>\n",
       "      <td>500.0</td>\n",
       "      <td>300.0</td>\n",
       "    </tr>\n",
       "    <tr>\n",
       "      <th>50%</th>\n",
       "      <td>460.0</td>\n",
       "      <td>150.0</td>\n",
       "      <td>200.0</td>\n",
       "      <td>500.0</td>\n",
       "      <td>500.0</td>\n",
       "      <td>300.0</td>\n",
       "    </tr>\n",
       "    <tr>\n",
       "      <th>75%</th>\n",
       "      <td>460.0</td>\n",
       "      <td>150.0</td>\n",
       "      <td>200.0</td>\n",
       "      <td>500.0</td>\n",
       "      <td>500.0</td>\n",
       "      <td>300.0</td>\n",
       "    </tr>\n",
       "    <tr>\n",
       "      <th>max</th>\n",
       "      <td>460.0</td>\n",
       "      <td>150.0</td>\n",
       "      <td>200.0</td>\n",
       "      <td>500.0</td>\n",
       "      <td>500.0</td>\n",
       "      <td>300.0</td>\n",
       "    </tr>\n",
       "  </tbody>\n",
       "</table>\n",
       "</div>"
      ],
      "text/plain": [
       "       Monday  Tuesday  Wednesday  Thursday  Friday  Saturday\n",
       "count     1.0      1.0        1.0       1.0     1.0       1.0\n",
       "mean    460.0    150.0      200.0     500.0   500.0     300.0\n",
       "std       NaN      NaN        NaN       NaN     NaN       NaN\n",
       "min     460.0    150.0      200.0     500.0   500.0     300.0\n",
       "25%     460.0    150.0      200.0     500.0   500.0     300.0\n",
       "50%     460.0    150.0      200.0     500.0   500.0     300.0\n",
       "75%     460.0    150.0      200.0     500.0   500.0     300.0\n",
       "max     460.0    150.0      200.0     500.0   500.0     300.0"
      ]
     },
     "execution_count": 17,
     "metadata": {},
     "output_type": "execute_result"
    }
   ],
   "source": [
    "df.describe()"
   ]
  },
  {
   "cell_type": "code",
   "execution_count": 48,
   "id": "5d2486c1",
   "metadata": {},
   "outputs": [
    {
     "data": {
      "text/html": [
       "<div>\n",
       "<style scoped>\n",
       "    .dataframe tbody tr th:only-of-type {\n",
       "        vertical-align: middle;\n",
       "    }\n",
       "\n",
       "    .dataframe tbody tr th {\n",
       "        vertical-align: top;\n",
       "    }\n",
       "\n",
       "    .dataframe thead th {\n",
       "        text-align: right;\n",
       "    }\n",
       "</style>\n",
       "<table border=\"1\" class=\"dataframe\">\n",
       "  <thead>\n",
       "    <tr style=\"text-align: right;\">\n",
       "      <th></th>\n",
       "      <th>Monday</th>\n",
       "      <th>Tuesday</th>\n",
       "      <th>Wednesday</th>\n",
       "      <th>Thursday</th>\n",
       "      <th>Friday</th>\n",
       "      <th>Saturday</th>\n",
       "      <th>Sunday</th>\n",
       "    </tr>\n",
       "  </thead>\n",
       "  <tbody>\n",
       "    <tr>\n",
       "      <th>0</th>\n",
       "      <td>420</td>\n",
       "      <td>150</td>\n",
       "      <td>200</td>\n",
       "      <td>500</td>\n",
       "      <td>500</td>\n",
       "      <td>300</td>\n",
       "      <td>Cheat Day</td>\n",
       "    </tr>\n",
       "    <tr>\n",
       "      <th>1</th>\n",
       "      <td>380</td>\n",
       "      <td>420</td>\n",
       "      <td>420</td>\n",
       "      <td>200</td>\n",
       "      <td>420</td>\n",
       "      <td>200</td>\n",
       "      <td>FUnday</td>\n",
       "    </tr>\n",
       "    <tr>\n",
       "      <th>2</th>\n",
       "      <td>390</td>\n",
       "      <td>380</td>\n",
       "      <td>380</td>\n",
       "      <td>420</td>\n",
       "      <td>380</td>\n",
       "      <td>420</td>\n",
       "      <td>CoolDay</td>\n",
       "    </tr>\n",
       "  </tbody>\n",
       "</table>\n",
       "</div>"
      ],
      "text/plain": [
       "   Monday  Tuesday  Wednesday  Thursday  Friday  Saturday     Sunday\n",
       "0     420      150        200       500     500       300  Cheat Day\n",
       "1     380      420        420       200     420       200     FUnday\n",
       "2     390      380        380       420     380       420    CoolDay"
      ]
     },
     "execution_count": 48,
     "metadata": {},
     "output_type": "execute_result"
    }
   ],
   "source": [
    "df.head()"
   ]
  },
  {
   "cell_type": "code",
   "execution_count": 56,
   "id": "1ea306ea",
   "metadata": {},
   "outputs": [
    {
     "name": "stdout",
     "output_type": "stream",
     "text": [
      "   Monday  Tuesday  Wednesday  Thursday  Friday  Saturday     Sunday\n",
      "0     420      150        200       500     500       300  Cheat Day\n",
      "1     380      420        420       200     420       200     FUnday\n"
     ]
    }
   ],
   "source": [
    "print(df.loc[[0,1]])"
   ]
  },
  {
   "cell_type": "code",
   "execution_count": 58,
   "id": "919b464c",
   "metadata": {},
   "outputs": [],
   "source": [
    "df = pd.DataFrame(data, index=[\"Day1\", \"Day2\", \"Day3\"])"
   ]
  },
  {
   "cell_type": "code",
   "execution_count": 59,
   "id": "6e4952b2",
   "metadata": {},
   "outputs": [
    {
     "data": {
      "text/html": [
       "<div>\n",
       "<style scoped>\n",
       "    .dataframe tbody tr th:only-of-type {\n",
       "        vertical-align: middle;\n",
       "    }\n",
       "\n",
       "    .dataframe tbody tr th {\n",
       "        vertical-align: top;\n",
       "    }\n",
       "\n",
       "    .dataframe thead th {\n",
       "        text-align: right;\n",
       "    }\n",
       "</style>\n",
       "<table border=\"1\" class=\"dataframe\">\n",
       "  <thead>\n",
       "    <tr style=\"text-align: right;\">\n",
       "      <th></th>\n",
       "      <th>Monday</th>\n",
       "      <th>Tuesday</th>\n",
       "      <th>Wednesday</th>\n",
       "      <th>Thursday</th>\n",
       "      <th>Friday</th>\n",
       "      <th>Saturday</th>\n",
       "      <th>Sunday</th>\n",
       "    </tr>\n",
       "  </thead>\n",
       "  <tbody>\n",
       "    <tr>\n",
       "      <th>Day1</th>\n",
       "      <td>420</td>\n",
       "      <td>150</td>\n",
       "      <td>200</td>\n",
       "      <td>500</td>\n",
       "      <td>500</td>\n",
       "      <td>300</td>\n",
       "      <td>Cheat Day</td>\n",
       "    </tr>\n",
       "    <tr>\n",
       "      <th>Day2</th>\n",
       "      <td>380</td>\n",
       "      <td>420</td>\n",
       "      <td>420</td>\n",
       "      <td>200</td>\n",
       "      <td>420</td>\n",
       "      <td>200</td>\n",
       "      <td>FUnday</td>\n",
       "    </tr>\n",
       "    <tr>\n",
       "      <th>Day3</th>\n",
       "      <td>390</td>\n",
       "      <td>380</td>\n",
       "      <td>380</td>\n",
       "      <td>420</td>\n",
       "      <td>380</td>\n",
       "      <td>420</td>\n",
       "      <td>CoolDay</td>\n",
       "    </tr>\n",
       "  </tbody>\n",
       "</table>\n",
       "</div>"
      ],
      "text/plain": [
       "      Monday  Tuesday  Wednesday  Thursday  Friday  Saturday     Sunday\n",
       "Day1     420      150        200       500     500       300  Cheat Day\n",
       "Day2     380      420        420       200     420       200     FUnday\n",
       "Day3     390      380        380       420     380       420    CoolDay"
      ]
     },
     "execution_count": 59,
     "metadata": {},
     "output_type": "execute_result"
    }
   ],
   "source": [
    "df"
   ]
  },
  {
   "cell_type": "code",
   "execution_count": 62,
   "id": "d16ebad5",
   "metadata": {},
   "outputs": [
    {
     "name": "stdout",
     "output_type": "stream",
     "text": [
      "Monday           380\n",
      "Tuesday          420\n",
      "Wednesday        420\n",
      "Thursday         200\n",
      "Friday           420\n",
      "Saturday         200\n",
      "Sunday        FUnday\n",
      "Name: Day2, dtype: object\n"
     ]
    }
   ],
   "source": [
    "print(df.loc[\"Day2\"])"
   ]
  },
  {
   "cell_type": "code",
   "execution_count": null,
   "id": "8bcfb514",
   "metadata": {},
   "outputs": [],
   "source": []
  }
 ],
 "metadata": {
  "kernelspec": {
   "display_name": "Python 3 (ipykernel)",
   "language": "python",
   "name": "python3"
  },
  "language_info": {
   "codemirror_mode": {
    "name": "ipython",
    "version": 3
   },
   "file_extension": ".py",
   "mimetype": "text/x-python",
   "name": "python",
   "nbconvert_exporter": "python",
   "pygments_lexer": "ipython3",
   "version": "3.9.13"
  }
 },
 "nbformat": 4,
 "nbformat_minor": 5
}
